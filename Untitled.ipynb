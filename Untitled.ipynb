{
 "cells": [
  {
   "cell_type": "markdown",
   "id": "27d90d41-0450-4ee6-9295-c2c05c816c0f",
   "metadata": {},
   "source": [
    "hi"
   ]
  },
  {
   "cell_type": "markdown",
   "id": "fd2b2c6e-801b-4b2c-ba89-62769258b3bd",
   "metadata": {},
   "source": [
    "hey"
   ]
  }
 ],
 "metadata": {
  "kernelspec": {
   "display_name": "R",
   "language": "R",
   "name": "ir"
  },
  "language_info": {
   "codemirror_mode": "r",
   "file_extension": ".r",
   "mimetype": "text/x-r-source",
   "name": "R",
   "pygments_lexer": "r",
   "version": "4.1.3"
  }
 },
 "nbformat": 4,
 "nbformat_minor": 5
}
