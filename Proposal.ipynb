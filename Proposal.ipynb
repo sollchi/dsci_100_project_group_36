{
 "cells": [
  {
   "cell_type": "markdown",
   "id": "5fdaae73-be66-4c96-bb9f-8126fc0f7128",
   "metadata": {},
   "source": [
    "# DSCI 100 Group 36 Project Proposal"
   ]
  },
  {
   "cell_type": "markdown",
   "id": "44b75569-db9a-4c8a-b3a3-8143e1094709",
   "metadata": {},
   "source": [
    "Soll Chi, Youchan Goh, Michael Qiu, Pawan Sekhon"
   ]
  },
  {
   "cell_type": "markdown",
   "id": "49ddb542-deba-4b3c-9c86-bdbad1be066c",
   "metadata": {},
   "source": [
    "## Title"
   ]
  },
  {
   "cell_type": "markdown",
   "id": "97f14f5d-602c-4259-9c16-d9641a1c9758",
   "metadata": {},
   "source": [
    "Resting blood pressure and its effect on the type of chest pain a patient experiences"
   ]
  },
  {
   "cell_type": "markdown",
   "id": "39e01288-c145-4620-87aa-85feecd7f1f3",
   "metadata": {},
   "source": [
    "## Introduction"
   ]
  },
  {
   "cell_type": "markdown",
   "id": "5f283890-2e56-4449-bbd0-95f7b09662b8",
   "metadata": {},
   "source": [
    "Heart disease is a disease that affects the heart and blood vessels. There are many types of heart disease, but we will be focusing on four main types. The first is typical angina. Typical angina is a temporary chest pain when your heart doesn’t get enough blood or oxygen. Typical Angina can be a symptom of coronary heart disease and is more common in men. The second is atypical angina, atypical angina is more subtle with its symptoms and can cause fatigue or shortness of breath. It can also cause discomfort in the throat, back, stomach and other areas and the feeling is described as muscle pain and is more common in women. The third type is non-anginal pain. This is pain that a person without heart disease might feel behind their breast bone. This pain is caused by different reasons than typical angina, such as issues with the esophagus or lungs. The fourth type is asymptomatic heart disease. This is said to feel like heartburn but can have the same effects as a normal heart attack and causes blockage of blood flow and damage to heart muscles. Age and high cholesterol can contribute to asymptomatic heart attacks.\n",
    "\n",
    "We will be using the  “processed.switzerland.data” which takes data from people from Switzerland such as the type of heart disease they have and other data such as sex, age, resting blood pressure, pain type, etc.\n",
    "Using this data we will explore these types of heart diseases and answer the following question:\n",
    "\n",
    "**Can the type of chest pain a patient feels be predicted based on serum cholesterol, sex, age, and pain location?**"
   ]
  },
  {
   "cell_type": "code",
   "execution_count": 1,
   "id": "34620925-f0d5-444c-9c06-f45795d986da",
   "metadata": {},
   "outputs": [
    {
     "name": "stderr",
     "output_type": "stream",
     "text": [
      "── \u001b[1mAttaching packages\u001b[22m ─────────────────────────────────────── tidyverse 1.3.1 ──\n",
      "\n",
      "\u001b[32m✔\u001b[39m \u001b[34mggplot2\u001b[39m 3.3.6     \u001b[32m✔\u001b[39m \u001b[34mpurrr  \u001b[39m 0.3.4\n",
      "\u001b[32m✔\u001b[39m \u001b[34mtibble \u001b[39m 3.1.7     \u001b[32m✔\u001b[39m \u001b[34mdplyr  \u001b[39m 1.0.9\n",
      "\u001b[32m✔\u001b[39m \u001b[34mtidyr  \u001b[39m 1.2.0     \u001b[32m✔\u001b[39m \u001b[34mstringr\u001b[39m 1.4.0\n",
      "\u001b[32m✔\u001b[39m \u001b[34mreadr  \u001b[39m 2.1.2     \u001b[32m✔\u001b[39m \u001b[34mforcats\u001b[39m 0.5.1\n",
      "\n",
      "── \u001b[1mConflicts\u001b[22m ────────────────────────────────────────── tidyverse_conflicts() ──\n",
      "\u001b[31m✖\u001b[39m \u001b[34mdplyr\u001b[39m::\u001b[32mfilter()\u001b[39m masks \u001b[34mstats\u001b[39m::filter()\n",
      "\u001b[31m✖\u001b[39m \u001b[34mdplyr\u001b[39m::\u001b[32mlag()\u001b[39m    masks \u001b[34mstats\u001b[39m::lag()\n",
      "\n",
      "── \u001b[1mAttaching packages\u001b[22m ────────────────────────────────────── tidymodels 1.0.0 ──\n",
      "\n",
      "\u001b[32m✔\u001b[39m \u001b[34mbroom       \u001b[39m 1.0.0     \u001b[32m✔\u001b[39m \u001b[34mrsample     \u001b[39m 1.0.0\n",
      "\u001b[32m✔\u001b[39m \u001b[34mdials       \u001b[39m 1.0.0     \u001b[32m✔\u001b[39m \u001b[34mtune        \u001b[39m 1.0.0\n",
      "\u001b[32m✔\u001b[39m \u001b[34minfer       \u001b[39m 1.0.2     \u001b[32m✔\u001b[39m \u001b[34mworkflows   \u001b[39m 1.0.0\n",
      "\u001b[32m✔\u001b[39m \u001b[34mmodeldata   \u001b[39m 1.0.0     \u001b[32m✔\u001b[39m \u001b[34mworkflowsets\u001b[39m 1.0.0\n",
      "\u001b[32m✔\u001b[39m \u001b[34mparsnip     \u001b[39m 1.0.0     \u001b[32m✔\u001b[39m \u001b[34myardstick   \u001b[39m 1.0.0\n",
      "\u001b[32m✔\u001b[39m \u001b[34mrecipes     \u001b[39m 1.0.1     \n",
      "\n",
      "── \u001b[1mConflicts\u001b[22m ───────────────────────────────────────── tidymodels_conflicts() ──\n",
      "\u001b[31m✖\u001b[39m \u001b[34mscales\u001b[39m::\u001b[32mdiscard()\u001b[39m masks \u001b[34mpurrr\u001b[39m::discard()\n",
      "\u001b[31m✖\u001b[39m \u001b[34mdplyr\u001b[39m::\u001b[32mfilter()\u001b[39m   masks \u001b[34mstats\u001b[39m::filter()\n",
      "\u001b[31m✖\u001b[39m \u001b[34mrecipes\u001b[39m::\u001b[32mfixed()\u001b[39m  masks \u001b[34mstringr\u001b[39m::fixed()\n",
      "\u001b[31m✖\u001b[39m \u001b[34mdplyr\u001b[39m::\u001b[32mlag()\u001b[39m      masks \u001b[34mstats\u001b[39m::lag()\n",
      "\u001b[31m✖\u001b[39m \u001b[34myardstick\u001b[39m::\u001b[32mspec()\u001b[39m masks \u001b[34mreadr\u001b[39m::spec()\n",
      "\u001b[31m✖\u001b[39m \u001b[34mrecipes\u001b[39m::\u001b[32mstep()\u001b[39m   masks \u001b[34mstats\u001b[39m::step()\n",
      "\u001b[34m•\u001b[39m Search for functions across packages at \u001b[32mhttps://www.tidymodels.org/find/\u001b[39m\n",
      "\n"
     ]
    }
   ],
   "source": [
    "library(tidyverse)\n",
    "library(tidymodels)\n",
    "library(dplyr)\n",
    "library(repr)\n",
    "library(readr)"
   ]
  },
  {
   "cell_type": "markdown",
   "id": "53319db0-0798-4044-911e-ea86bfbfb24f",
   "metadata": {},
   "source": [
    "## Preliminary Exploratory Data Analysis"
   ]
  },
  {
   "cell_type": "markdown",
   "id": "cdfccf76-928a-418f-afde-9dac519ab27e",
   "metadata": {},
   "source": [
    "**Tidying Data**"
   ]
  },
  {
   "cell_type": "code",
   "execution_count": 11,
   "id": "fef6b3bb-34ae-4656-99f9-02b4fe32af8a",
   "metadata": {},
   "outputs": [
    {
     "name": "stderr",
     "output_type": "stream",
     "text": [
      "\u001b[1m\u001b[22mNew names:\n",
      "\u001b[36m•\u001b[39m `1` -> `1...2`\n",
      "\u001b[36m•\u001b[39m `1` -> `1...3`\n",
      "\u001b[36m•\u001b[39m `0` -> `0...5`\n",
      "\u001b[36m•\u001b[39m `?` -> `?...6`\n",
      "\u001b[36m•\u001b[39m `0` -> `0...7`\n",
      "\u001b[36m•\u001b[39m `0` -> `0...9`\n",
      "\u001b[36m•\u001b[39m `1` -> `1...11`\n",
      "\u001b[36m•\u001b[39m `?` -> `?...12`\n",
      "\u001b[36m•\u001b[39m `?` -> `?...13`\n",
      "\u001b[36m•\u001b[39m `1` -> `1...14`\n",
      "\u001b[1mRows: \u001b[22m\u001b[34m122\u001b[39m \u001b[1mColumns: \u001b[22m\u001b[34m14\u001b[39m\n",
      "\u001b[36m──\u001b[39m \u001b[1mColumn specification\u001b[22m \u001b[36m────────────────────────────────────────────────────────\u001b[39m\n",
      "\u001b[1mDelimiter:\u001b[22m \",\"\n",
      "\u001b[31mchr\u001b[39m (9): 95, ?...6, 0...7, 127, 0...9, .7, 1...11, ?...12, ?...13\n",
      "\u001b[32mdbl\u001b[39m (5): 32, 1...2, 1...3, 0...5, 1...14\n",
      "\n",
      "\u001b[36mℹ\u001b[39m Use `spec()` to retrieve the full column specification for this data.\n",
      "\u001b[36mℹ\u001b[39m Specify the column types or set `show_col_types = FALSE` to quiet this message.\n"
     ]
    }
   ],
   "source": [
    "switzerland <- read_csv(\"processed.switzerland.data\")\n",
    "names(switzerland) <- c(\"age\", \"sex\", \"cp\", \"trestbps\", \"chol\", \"fbs\", \"restecg\", \n",
    "                        \"thalach\", \"exang\", \"oldpeak\", \"slope\", \"ca\", \"thal\", \"num\") \n",
    "\n",
    "switzerland_new <- subset(switzerland, trestbps != \"?\")\n",
    "\n",
    "switzerland_new <- select(switzerland_new, age, sex, cp, trestbps) |>\n",
    "    mutate(sex = ifelse(sex == 0, \"male\", \"female\")) |>\n",
    "    mutate(cp = recode(cp, \n",
    "                     `1` = \"typical angina\",\n",
    "                     `2` = \"atypical angina\",\n",
    "                     `3` = \"non-anginal pain\",\n",
    "                     `4` = \"asymptomatic\")) |>\n",
    "    mutate(sex = as_factor(sex)) |>\n",
    "    mutate(cp = as_factor(cp))"
   ]
  },
  {
   "cell_type": "markdown",
   "id": "39a75378-13e6-46d5-b3bd-21c9c360749a",
   "metadata": {},
   "source": [
    "**Splitting Data**"
   ]
  },
  {
   "cell_type": "code",
   "execution_count": 5,
   "id": "bf16d9b7-e067-4cb4-9d1e-90efa3236136",
   "metadata": {},
   "outputs": [],
   "source": [
    "set.seed(42)\n",
    "switzerland_split <- initial_split(switzerland_new, prop = 0.75, strata = cp)\n",
    "switzerland_train <- training(switzerland_split)\n",
    "switzerland_test <- testing(switzerland_split)"
   ]
  },
  {
   "cell_type": "markdown",
   "id": "bfae4a22-31b7-425f-b997-0f33789878f3",
   "metadata": {},
   "source": [
    "**Summarizing Data Based on cp**"
   ]
  },
  {
   "cell_type": "code",
   "execution_count": 6,
   "id": "37643df8-bb9f-486d-a0a0-d8a16ec41eee",
   "metadata": {},
   "outputs": [
    {
     "data": {
      "text/html": [
       "<table class=\"dataframe\">\n",
       "<caption>A tibble: 3 × 2</caption>\n",
       "<thead>\n",
       "\t<tr><th scope=col>cp</th><th scope=col>count</th></tr>\n",
       "\t<tr><th scope=col>&lt;fct&gt;</th><th scope=col>&lt;int&gt;</th></tr>\n",
       "</thead>\n",
       "<tbody>\n",
       "\t<tr><td>asymptomatic    </td><td>72</td></tr>\n",
       "\t<tr><td>non-anginal pain</td><td>14</td></tr>\n",
       "\t<tr><td>atypical angina </td><td> 4</td></tr>\n",
       "</tbody>\n",
       "</table>\n"
      ],
      "text/latex": [
       "A tibble: 3 × 2\n",
       "\\begin{tabular}{ll}\n",
       " cp & count\\\\\n",
       " <fct> & <int>\\\\\n",
       "\\hline\n",
       "\t asymptomatic     & 72\\\\\n",
       "\t non-anginal pain & 14\\\\\n",
       "\t atypical angina  &  4\\\\\n",
       "\\end{tabular}\n"
      ],
      "text/markdown": [
       "\n",
       "A tibble: 3 × 2\n",
       "\n",
       "| cp &lt;fct&gt; | count &lt;int&gt; |\n",
       "|---|---|\n",
       "| asymptomatic     | 72 |\n",
       "| non-anginal pain | 14 |\n",
       "| atypical angina  |  4 |\n",
       "\n"
      ],
      "text/plain": [
       "  cp               count\n",
       "1 asymptomatic     72   \n",
       "2 non-anginal pain 14   \n",
       "3 atypical angina   4   "
      ]
     },
     "metadata": {},
     "output_type": "display_data"
    }
   ],
   "source": [
    "cp_count <- switzerland_train |>\n",
    "    group_by(cp) |> \n",
    "    summarize(count = n()) \n",
    "cp_count"
   ]
  },
  {
   "cell_type": "markdown",
   "id": "ff217927-a461-4709-97d6-cbde63d62a3b",
   "metadata": {},
   "source": [
    "**Visualizing Data**"
   ]
  },
  {
   "cell_type": "code",
   "execution_count": 7,
   "id": "59531438-dd98-4f9d-aff1-40f6f2bcf7bf",
   "metadata": {},
   "outputs": [
    {
     "data": {
      "image/png": "[encoded data removed]",
      "text/plain": [
       "plot without title"
      ]
     },
     "metadata": {
      "image/png": {
       "height": 420,
       "width": 420
      }
     },
     "output_type": "display_data"
    }
   ],
   "source": [
    "cp_plot <- cp_count |>\n",
    "    ggplot(aes(x = cp, y = count)) +\n",
    "                  geom_bar(stat = \"identity\") + \n",
    "                  labs(x = \"Type of Chest Pain\", y = \"Number of Patients\")\n",
    "\n",
    "cp_plot"
   ]
  },
  {
   "cell_type": "markdown",
   "id": "38b7ddf1-6c77-4645-aced-b096821d7464",
   "metadata": {},
   "source": [
    "## Methods"
   ]
  },
  {
   "cell_type": "markdown",
   "id": "fc0d5cf9-6681-4d26-a071-5f4b676a17a1",
   "metadata": {},
   "source": [
    "The variables used will be #3 age, #4 sex, #5 painloc (chest pain location), #9 cp (chest pain type), #10 trestbps (resting blood pressure). Using K-NN classification we will design a model that predicts the type of chest pain for a patient based on resting blood pressure, sex, age, and pain type.\n",
    "We will generate a graph that plots the accuracy of our classification model and then test our model using data from other countries."
   ]
  },
  {
   "cell_type": "markdown",
   "id": "8a6e3243-3667-4c24-9127-babb98ec889a",
   "metadata": {},
   "source": [
    "## Expected Outcomes and Significance"
   ]
  },
  {
   "cell_type": "markdown",
   "id": "3a343158-6f9b-4840-88f6-2bfbe2fd1e01",
   "metadata": {},
   "source": [
    "We expect to find significant correlation levels between chest pain type and the resting blood pressure, age, and sex of the patient. Specifically, we expect to find that typical angina is more common in males and that atypical is more common in females\n",
    "\n",
    "These findings can be used to discover potential treatments for heart disease and help doctors identify possible early signs of heart disease.\n",
    "\n",
    "Some future questions could be:\n",
    "- How do variables such as age and sex impact heart disease?\n",
    "- What difference in men causes them to have typical angina more than women?\n",
    "- What difference in women causes them to have atypical angina more than men?"
   ]
  }
 ],
 "metadata": {
  "kernelspec": {
   "display_name": "R",
   "language": "R",
   "name": "ir"
  },
  "language_info": {
   "codemirror_mode": "r",
   "file_extension": ".r",
   "mimetype": "text/x-r-source",
   "name": "R",
   "pygments_lexer": "r",
   "version": "4.1.3"
  }
 },
 "nbformat": 4,
 "nbformat_minor": 5
}
