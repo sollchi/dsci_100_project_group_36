{
 "cells": [
  {
   "cell_type": "markdown",
   "id": "5fdaae73-be66-4c96-bb9f-8126fc0f7128",
   "metadata": {},
   "source": [
    "# DSCI 100 Group 36 Project Proposal"
   ]
  },
  {
   "cell_type": "markdown",
   "id": "44b75569-db9a-4c8a-b3a3-8143e1094709",
   "metadata": {},
   "source": [
    "Soll Chi, Youchan Goh, Michael Qiu, Pawan Sekhon"
   ]
  },
  {
   "cell_type": "markdown",
   "id": "49ddb542-deba-4b3c-9c86-bdbad1be066c",
   "metadata": {},
   "source": [
    "## Title"
   ]
  },
  {
   "cell_type": "markdown",
   "id": "97f14f5d-602c-4259-9c16-d9641a1c9758",
   "metadata": {},
   "source": [
    "Resting blood pressure and its effect on the type of chest pain a patient experiences"
   ]
  },
  {
   "cell_type": "markdown",
   "id": "39e01288-c145-4620-87aa-85feecd7f1f3",
   "metadata": {},
   "source": [
    "## Introduction"
   ]
  },
  {
   "cell_type": "markdown",
   "id": "5f283890-2e56-4449-bbd0-95f7b09662b8",
   "metadata": {},
   "source": [
    "Heart disease is a disease that affects the heart and blood vessels. There are many types of heart disease, but we will be focusing on four main types. The first is typical angina. Typical angina is a temporary chest pain when your heart doesn’t receive enough blood or oxygen. Typical angina can be a symptom of coronary heart disease and is more common in men. The second is atypical angina, which is more subtle with its symptoms and can cause fatigue or shortness of breath. It can also cause discomfort in the throat, back, stomach, and other areas; the feeling is described as muscle pain and is more common in women. The third type is non-anginal pain. This is pain that a person without heart disease may feel behind their breast bone. This pain is caused by different reasons than typical angina, such as issues with the esophagus or lungs. The fourth type is asymptomatic heart disease. This is said to feel like heartburn but can have the same effects as a normal heart attack, causing blockage of blood flow and damage to heart muscles. Age and high cholesterol can contribute to asymptomatic heart attacks.\n",
    "\n",
    "We will be using the  “processed.switzerland.data” which takes data from people from Switzerland such as the type of heart disease they have and other data such as sex, age, resting blood pressure, pain type, etc. Using this data, we will explore these types of heart diseases and answer the following question:\n",
    "\n",
    "**Can the type of chest pain a patient feels be predicted based on serum cholesterol, sex, age, and pain location?**"
   ]
  },
  {
   "cell_type": "markdown",
   "id": "53319db0-0798-4044-911e-ea86bfbfb24f",
   "metadata": {},
   "source": [
    "## Preliminary Exploratory Data Analysis"
   ]
  },
  {
   "cell_type": "code",
   "execution_count": 9,
   "id": "34620925-f0d5-444c-9c06-f45795d986da",
   "metadata": {},
   "outputs": [
    {
     "ename": "ERROR",
     "evalue": "Error in library(themis): there is no package called ‘themis’\n",
     "output_type": "error",
     "traceback": [
      "Error in library(themis): there is no package called ‘themis’\nTraceback:\n",
      "1. library(themis)"
     ]
    }
   ],
   "source": [
    "library(tidyverse)\n",
    "library(tidymodels)\n",
    "library(dplyr)\n",
    "library(repr)\n",
    "library(readr)\n",
    "library(themis)"
   ]
  },
  {
   "cell_type": "code",
   "execution_count": 224,
   "id": "7aea7692-edc1-4ef1-9d61-992cef1754c6",
   "metadata": {},
   "outputs": [
    {
     "name": "stderr",
     "output_type": "stream",
     "text": [
      "\u001b[1m\u001b[22mNew names:\n",
      "\u001b[36m•\u001b[39m `1.0` -> `1.0...2`\n",
      "\u001b[36m•\u001b[39m `1.0` -> `1.0...3`\n",
      "\u001b[36m•\u001b[39m `1.0` -> `1.0...6`\n",
      "\u001b[36m•\u001b[39m `0.0` -> `0.0...9`\n",
      "\u001b[36m•\u001b[39m `0.0` -> `0.0...12`\n",
      "\u001b[1mRows: \u001b[22m\u001b[34m302\u001b[39m \u001b[1mColumns: \u001b[22m\u001b[34m14\u001b[39m\n",
      "\u001b[36m──\u001b[39m \u001b[1mColumn specification\u001b[22m \u001b[36m────────────────────────────────────────────────────────\u001b[39m\n",
      "\u001b[1mDelimiter:\u001b[22m \",\"\n",
      "\u001b[31mchr\u001b[39m  (2): 0.0...12, 6.0\n",
      "\u001b[32mdbl\u001b[39m (12): 63.0, 1.0...2, 1.0...3, 145.0, 233.0, 1.0...6, 2.0, 150.0, 0.0...9...\n",
      "\n",
      "\u001b[36mℹ\u001b[39m Use `spec()` to retrieve the full column specification for this data.\n",
      "\u001b[36mℹ\u001b[39m Specify the column types or set `show_col_types = FALSE` to quiet this message.\n"
     ]
    },
    {
     "data": {
      "text/html": [
       "<table class=\"dataframe\">\n",
       "<caption>A tibble: 6 × 14</caption>\n",
       "<thead>\n",
       "\t<tr><th scope=col>age</th><th scope=col>sex</th><th scope=col>cp</th><th scope=col>trestbps</th><th scope=col>chol</th><th scope=col>fbs</th><th scope=col>restecg</th><th scope=col>thalach</th><th scope=col>exang</th><th scope=col>oldpeak</th><th scope=col>slope</th><th scope=col>ca</th><th scope=col>thal</th><th scope=col>num</th></tr>\n",
       "\t<tr><th scope=col>&lt;dbl&gt;</th><th scope=col>&lt;dbl&gt;</th><th scope=col>&lt;dbl&gt;</th><th scope=col>&lt;dbl&gt;</th><th scope=col>&lt;dbl&gt;</th><th scope=col>&lt;dbl&gt;</th><th scope=col>&lt;dbl&gt;</th><th scope=col>&lt;dbl&gt;</th><th scope=col>&lt;dbl&gt;</th><th scope=col>&lt;dbl&gt;</th><th scope=col>&lt;dbl&gt;</th><th scope=col>&lt;chr&gt;</th><th scope=col>&lt;chr&gt;</th><th scope=col>&lt;dbl&gt;</th></tr>\n",
       "</thead>\n",
       "<tbody>\n",
       "\t<tr><td>67</td><td>1</td><td>4</td><td>160</td><td>286</td><td>0</td><td>2</td><td>108</td><td>1</td><td>1.5</td><td>2</td><td>3.0</td><td>3.0</td><td>2</td></tr>\n",
       "\t<tr><td>67</td><td>1</td><td>4</td><td>120</td><td>229</td><td>0</td><td>2</td><td>129</td><td>1</td><td>2.6</td><td>2</td><td>2.0</td><td>7.0</td><td>1</td></tr>\n",
       "\t<tr><td>37</td><td>1</td><td>3</td><td>130</td><td>250</td><td>0</td><td>0</td><td>187</td><td>0</td><td>3.5</td><td>3</td><td>0.0</td><td>3.0</td><td>0</td></tr>\n",
       "\t<tr><td>41</td><td>0</td><td>2</td><td>130</td><td>204</td><td>0</td><td>2</td><td>172</td><td>0</td><td>1.4</td><td>1</td><td>0.0</td><td>3.0</td><td>0</td></tr>\n",
       "\t<tr><td>56</td><td>1</td><td>2</td><td>120</td><td>236</td><td>0</td><td>0</td><td>178</td><td>0</td><td>0.8</td><td>1</td><td>0.0</td><td>3.0</td><td>0</td></tr>\n",
       "\t<tr><td>62</td><td>0</td><td>4</td><td>140</td><td>268</td><td>0</td><td>2</td><td>160</td><td>0</td><td>3.6</td><td>3</td><td>2.0</td><td>3.0</td><td>3</td></tr>\n",
       "</tbody>\n",
       "</table>\n"
      ],
      "text/latex": [
       "A tibble: 6 × 14\n",
       "\\begin{tabular}{llllllllllllll}\n",
       " age & sex & cp & trestbps & chol & fbs & restecg & thalach & exang & oldpeak & slope & ca & thal & num\\\\\n",
       " <dbl> & <dbl> & <dbl> & <dbl> & <dbl> & <dbl> & <dbl> & <dbl> & <dbl> & <dbl> & <dbl> & <chr> & <chr> & <dbl>\\\\\n",
       "\\hline\n",
       "\t 67 & 1 & 4 & 160 & 286 & 0 & 2 & 108 & 1 & 1.5 & 2 & 3.0 & 3.0 & 2\\\\\n",
       "\t 67 & 1 & 4 & 120 & 229 & 0 & 2 & 129 & 1 & 2.6 & 2 & 2.0 & 7.0 & 1\\\\\n",
       "\t 37 & 1 & 3 & 130 & 250 & 0 & 0 & 187 & 0 & 3.5 & 3 & 0.0 & 3.0 & 0\\\\\n",
       "\t 41 & 0 & 2 & 130 & 204 & 0 & 2 & 172 & 0 & 1.4 & 1 & 0.0 & 3.0 & 0\\\\\n",
       "\t 56 & 1 & 2 & 120 & 236 & 0 & 0 & 178 & 0 & 0.8 & 1 & 0.0 & 3.0 & 0\\\\\n",
       "\t 62 & 0 & 4 & 140 & 268 & 0 & 2 & 160 & 0 & 3.6 & 3 & 2.0 & 3.0 & 3\\\\\n",
       "\\end{tabular}\n"
      ],
      "text/markdown": [
       "\n",
       "A tibble: 6 × 14\n",
       "\n",
       "| age &lt;dbl&gt; | sex &lt;dbl&gt; | cp &lt;dbl&gt; | trestbps &lt;dbl&gt; | chol &lt;dbl&gt; | fbs &lt;dbl&gt; | restecg &lt;dbl&gt; | thalach &lt;dbl&gt; | exang &lt;dbl&gt; | oldpeak &lt;dbl&gt; | slope &lt;dbl&gt; | ca &lt;chr&gt; | thal &lt;chr&gt; | num &lt;dbl&gt; |\n",
       "|---|---|---|---|---|---|---|---|---|---|---|---|---|---|\n",
       "| 67 | 1 | 4 | 160 | 286 | 0 | 2 | 108 | 1 | 1.5 | 2 | 3.0 | 3.0 | 2 |\n",
       "| 67 | 1 | 4 | 120 | 229 | 0 | 2 | 129 | 1 | 2.6 | 2 | 2.0 | 7.0 | 1 |\n",
       "| 37 | 1 | 3 | 130 | 250 | 0 | 0 | 187 | 0 | 3.5 | 3 | 0.0 | 3.0 | 0 |\n",
       "| 41 | 0 | 2 | 130 | 204 | 0 | 2 | 172 | 0 | 1.4 | 1 | 0.0 | 3.0 | 0 |\n",
       "| 56 | 1 | 2 | 120 | 236 | 0 | 0 | 178 | 0 | 0.8 | 1 | 0.0 | 3.0 | 0 |\n",
       "| 62 | 0 | 4 | 140 | 268 | 0 | 2 | 160 | 0 | 3.6 | 3 | 2.0 | 3.0 | 3 |\n",
       "\n"
      ],
      "text/plain": [
       "  age sex cp trestbps chol fbs restecg thalach exang oldpeak slope ca  thal num\n",
       "1 67  1   4  160      286  0   2       108     1     1.5     2     3.0 3.0  2  \n",
       "2 67  1   4  120      229  0   2       129     1     2.6     2     2.0 7.0  1  \n",
       "3 37  1   3  130      250  0   0       187     0     3.5     3     0.0 3.0  0  \n",
       "4 41  0   2  130      204  0   2       172     0     1.4     1     0.0 3.0  0  \n",
       "5 56  1   2  120      236  0   0       178     0     0.8     1     0.0 3.0  0  \n",
       "6 62  0   4  140      268  0   2       160     0     3.6     3     2.0 3.0  3  "
      ]
     },
     "metadata": {},
     "output_type": "display_data"
    },
    {
     "data": {
      "text/html": [
       "<table class=\"dataframe\">\n",
       "<caption>A tibble: 6 × 14</caption>\n",
       "<thead>\n",
       "\t<tr><th scope=col>age</th><th scope=col>sex</th><th scope=col>cp</th><th scope=col>trestbps</th><th scope=col>chol</th><th scope=col>fbs</th><th scope=col>restecg</th><th scope=col>thalach</th><th scope=col>exang</th><th scope=col>oldpeak</th><th scope=col>slope</th><th scope=col>ca</th><th scope=col>thal</th><th scope=col>num</th></tr>\n",
       "\t<tr><th scope=col>&lt;dbl&gt;</th><th scope=col>&lt;dbl&gt;</th><th scope=col>&lt;dbl&gt;</th><th scope=col>&lt;dbl&gt;</th><th scope=col>&lt;dbl&gt;</th><th scope=col>&lt;dbl&gt;</th><th scope=col>&lt;dbl&gt;</th><th scope=col>&lt;dbl&gt;</th><th scope=col>&lt;dbl&gt;</th><th scope=col>&lt;dbl&gt;</th><th scope=col>&lt;dbl&gt;</th><th scope=col>&lt;chr&gt;</th><th scope=col>&lt;chr&gt;</th><th scope=col>&lt;dbl&gt;</th></tr>\n",
       "</thead>\n",
       "<tbody>\n",
       "\t<tr><td>57</td><td>0</td><td>4</td><td>140</td><td>241</td><td>0</td><td>0</td><td>123</td><td>1</td><td>0.2</td><td>2</td><td>0.0</td><td>7.0</td><td>1</td></tr>\n",
       "\t<tr><td>45</td><td>1</td><td>1</td><td>110</td><td>264</td><td>0</td><td>0</td><td>132</td><td>0</td><td>1.2</td><td>2</td><td>0.0</td><td>7.0</td><td>1</td></tr>\n",
       "\t<tr><td>68</td><td>1</td><td>4</td><td>144</td><td>193</td><td>1</td><td>0</td><td>141</td><td>0</td><td>3.4</td><td>2</td><td>2.0</td><td>7.0</td><td>2</td></tr>\n",
       "\t<tr><td>57</td><td>1</td><td>4</td><td>130</td><td>131</td><td>0</td><td>0</td><td>115</td><td>1</td><td>1.2</td><td>2</td><td>1.0</td><td>7.0</td><td>3</td></tr>\n",
       "\t<tr><td>57</td><td>0</td><td>2</td><td>130</td><td>236</td><td>0</td><td>2</td><td>174</td><td>0</td><td>0.0</td><td>2</td><td>1.0</td><td>3.0</td><td>1</td></tr>\n",
       "\t<tr><td>38</td><td>1</td><td>3</td><td>138</td><td>175</td><td>0</td><td>0</td><td>173</td><td>0</td><td>0.0</td><td>1</td><td>?  </td><td>3.0</td><td>0</td></tr>\n",
       "</tbody>\n",
       "</table>\n"
      ],
      "text/latex": [
       "A tibble: 6 × 14\n",
       "\\begin{tabular}{llllllllllllll}\n",
       " age & sex & cp & trestbps & chol & fbs & restecg & thalach & exang & oldpeak & slope & ca & thal & num\\\\\n",
       " <dbl> & <dbl> & <dbl> & <dbl> & <dbl> & <dbl> & <dbl> & <dbl> & <dbl> & <dbl> & <dbl> & <chr> & <chr> & <dbl>\\\\\n",
       "\\hline\n",
       "\t 57 & 0 & 4 & 140 & 241 & 0 & 0 & 123 & 1 & 0.2 & 2 & 0.0 & 7.0 & 1\\\\\n",
       "\t 45 & 1 & 1 & 110 & 264 & 0 & 0 & 132 & 0 & 1.2 & 2 & 0.0 & 7.0 & 1\\\\\n",
       "\t 68 & 1 & 4 & 144 & 193 & 1 & 0 & 141 & 0 & 3.4 & 2 & 2.0 & 7.0 & 2\\\\\n",
       "\t 57 & 1 & 4 & 130 & 131 & 0 & 0 & 115 & 1 & 1.2 & 2 & 1.0 & 7.0 & 3\\\\\n",
       "\t 57 & 0 & 2 & 130 & 236 & 0 & 2 & 174 & 0 & 0.0 & 2 & 1.0 & 3.0 & 1\\\\\n",
       "\t 38 & 1 & 3 & 138 & 175 & 0 & 0 & 173 & 0 & 0.0 & 1 & ?   & 3.0 & 0\\\\\n",
       "\\end{tabular}\n"
      ],
      "text/markdown": [
       "\n",
       "A tibble: 6 × 14\n",
       "\n",
       "| age &lt;dbl&gt; | sex &lt;dbl&gt; | cp &lt;dbl&gt; | trestbps &lt;dbl&gt; | chol &lt;dbl&gt; | fbs &lt;dbl&gt; | restecg &lt;dbl&gt; | thalach &lt;dbl&gt; | exang &lt;dbl&gt; | oldpeak &lt;dbl&gt; | slope &lt;dbl&gt; | ca &lt;chr&gt; | thal &lt;chr&gt; | num &lt;dbl&gt; |\n",
       "|---|---|---|---|---|---|---|---|---|---|---|---|---|---|\n",
       "| 57 | 0 | 4 | 140 | 241 | 0 | 0 | 123 | 1 | 0.2 | 2 | 0.0 | 7.0 | 1 |\n",
       "| 45 | 1 | 1 | 110 | 264 | 0 | 0 | 132 | 0 | 1.2 | 2 | 0.0 | 7.0 | 1 |\n",
       "| 68 | 1 | 4 | 144 | 193 | 1 | 0 | 141 | 0 | 3.4 | 2 | 2.0 | 7.0 | 2 |\n",
       "| 57 | 1 | 4 | 130 | 131 | 0 | 0 | 115 | 1 | 1.2 | 2 | 1.0 | 7.0 | 3 |\n",
       "| 57 | 0 | 2 | 130 | 236 | 0 | 2 | 174 | 0 | 0.0 | 2 | 1.0 | 3.0 | 1 |\n",
       "| 38 | 1 | 3 | 138 | 175 | 0 | 0 | 173 | 0 | 0.0 | 1 | ?   | 3.0 | 0 |\n",
       "\n"
      ],
      "text/plain": [
       "  age sex cp trestbps chol fbs restecg thalach exang oldpeak slope ca  thal num\n",
       "1 57  0   4  140      241  0   0       123     1     0.2     2     0.0 7.0  1  \n",
       "2 45  1   1  110      264  0   0       132     0     1.2     2     0.0 7.0  1  \n",
       "3 68  1   4  144      193  1   0       141     0     3.4     2     2.0 7.0  2  \n",
       "4 57  1   4  130      131  0   0       115     1     1.2     2     1.0 7.0  3  \n",
       "5 57  0   2  130      236  0   2       174     0     0.0     2     1.0 3.0  1  \n",
       "6 38  1   3  138      175  0   0       173     0     0.0     1     ?   3.0  0  "
      ]
     },
     "metadata": {},
     "output_type": "display_data"
    },
    {
     "data": {
      "text/html": [
       "302"
      ],
      "text/latex": [
       "302"
      ],
      "text/markdown": [
       "302"
      ],
      "text/plain": [
       "[1] 302"
      ]
     },
     "metadata": {},
     "output_type": "display_data"
    }
   ],
   "source": [
    "url <- \"https://archive.ics.uci.edu/ml/machine-learning-databases/heart-disease/processed.cleveland.data\"\n",
    "cleveland <- read_csv(url)\n",
    "names(cleveland) <- c(\"age\", \"sex\", \"cp\", \"trestbps\", \"chol\", \"fbs\", \"restecg\", \n",
    "                        \"thalach\", \"exang\", \"oldpeak\", \"slope\", \"ca\", \"thal\", \"num\") \n",
    "head(cleveland)\n",
    "tail(cleveland)\n",
    "nrow(cleveland)"
   ]
  },
  {
   "cell_type": "markdown",
   "id": "cdfccf76-928a-418f-afde-9dac519ab27e",
   "metadata": {},
   "source": [
    "**Tidying Data**"
   ]
  },
  {
   "cell_type": "code",
   "execution_count": 241,
   "id": "fef6b3bb-34ae-4656-99f9-02b4fe32af8a",
   "metadata": {},
   "outputs": [
    {
     "data": {
      "text/html": [
       "<table class=\"dataframe\">\n",
       "<caption>A tibble: 6 × 6</caption>\n",
       "<thead>\n",
       "\t<tr><th scope=col>age</th><th scope=col>sex</th><th scope=col>cp</th><th scope=col>trestbps</th><th scope=col>thalach</th><th scope=col>chestpain</th></tr>\n",
       "\t<tr><th scope=col>&lt;dbl&gt;</th><th scope=col>&lt;fct&gt;</th><th scope=col>&lt;fct&gt;</th><th scope=col>&lt;dbl&gt;</th><th scope=col>&lt;dbl&gt;</th><th scope=col>&lt;fct&gt;</th></tr>\n",
       "</thead>\n",
       "<tbody>\n",
       "\t<tr><td>67</td><td>female</td><td>asymptomatic    </td><td>160</td><td>108</td><td>FALSE</td></tr>\n",
       "\t<tr><td>67</td><td>female</td><td>asymptomatic    </td><td>120</td><td>129</td><td>FALSE</td></tr>\n",
       "\t<tr><td>37</td><td>female</td><td>non-anginal pain</td><td>130</td><td>187</td><td>TRUE </td></tr>\n",
       "\t<tr><td>41</td><td>male  </td><td>atypical angina </td><td>130</td><td>172</td><td>TRUE </td></tr>\n",
       "\t<tr><td>56</td><td>female</td><td>atypical angina </td><td>120</td><td>178</td><td>TRUE </td></tr>\n",
       "\t<tr><td>62</td><td>male  </td><td>asymptomatic    </td><td>140</td><td>160</td><td>FALSE</td></tr>\n",
       "</tbody>\n",
       "</table>\n"
      ],
      "text/latex": [
       "A tibble: 6 × 6\n",
       "\\begin{tabular}{llllll}\n",
       " age & sex & cp & trestbps & thalach & chestpain\\\\\n",
       " <dbl> & <fct> & <fct> & <dbl> & <dbl> & <fct>\\\\\n",
       "\\hline\n",
       "\t 67 & female & asymptomatic     & 160 & 108 & FALSE\\\\\n",
       "\t 67 & female & asymptomatic     & 120 & 129 & FALSE\\\\\n",
       "\t 37 & female & non-anginal pain & 130 & 187 & TRUE \\\\\n",
       "\t 41 & male   & atypical angina  & 130 & 172 & TRUE \\\\\n",
       "\t 56 & female & atypical angina  & 120 & 178 & TRUE \\\\\n",
       "\t 62 & male   & asymptomatic     & 140 & 160 & FALSE\\\\\n",
       "\\end{tabular}\n"
      ],
      "text/markdown": [
       "\n",
       "A tibble: 6 × 6\n",
       "\n",
       "| age &lt;dbl&gt; | sex &lt;fct&gt; | cp &lt;fct&gt; | trestbps &lt;dbl&gt; | thalach &lt;dbl&gt; | chestpain &lt;fct&gt; |\n",
       "|---|---|---|---|---|---|\n",
       "| 67 | female | asymptomatic     | 160 | 108 | FALSE |\n",
       "| 67 | female | asymptomatic     | 120 | 129 | FALSE |\n",
       "| 37 | female | non-anginal pain | 130 | 187 | TRUE  |\n",
       "| 41 | male   | atypical angina  | 130 | 172 | TRUE  |\n",
       "| 56 | female | atypical angina  | 120 | 178 | TRUE  |\n",
       "| 62 | male   | asymptomatic     | 140 | 160 | FALSE |\n",
       "\n"
      ],
      "text/plain": [
       "  age sex    cp               trestbps thalach chestpain\n",
       "1 67  female asymptomatic     160      108     FALSE    \n",
       "2 67  female asymptomatic     120      129     FALSE    \n",
       "3 37  female non-anginal pain 130      187     TRUE     \n",
       "4 41  male   atypical angina  130      172     TRUE     \n",
       "5 56  female atypical angina  120      178     TRUE     \n",
       "6 62  male   asymptomatic     140      160     FALSE    "
      ]
     },
     "metadata": {},
     "output_type": "display_data"
    },
    {
     "data": {
      "text/html": [
       "302"
      ],
      "text/latex": [
       "302"
      ],
      "text/markdown": [
       "302"
      ],
      "text/plain": [
       "[1] 302"
      ]
     },
     "metadata": {},
     "output_type": "display_data"
    }
   ],
   "source": [
    "cleveland_new <- subset(cleveland, trestbps != \"?\")\n",
    "\n",
    "cleveland_new <- select(cleveland_new, age, sex, cp, trestbps, thalach) |>\n",
    "    mutate(sex = ifelse(sex == 0, \"male\", \"female\")) |>\n",
    "    mutate(cp = recode(cp, \n",
    "                     `1` = \"typical angina\",\n",
    "                     `2` = \"atypical angina\",\n",
    "                     `3` = \"non-anginal pain\",\n",
    "                     `4` = \"asymptomatic\")) |>\n",
    "    mutate(sex = as_factor(sex)) |>\n",
    "    mutate(trestbps = as.numeric(trestbps)) |>\n",
    "    mutate(cp = as_factor(cp))\n",
    "\n",
    "cleveland_new <- mutate(cleveland_new, chestpain = as.factor(ifelse(is.na(cp), NA, (cp != \"asymptomatic\"))))\n",
    "\n",
    "head(cleveland_new)\n",
    "nrow(cleveland_new)"
   ]
  },
  {
   "cell_type": "markdown",
   "id": "39a75378-13e6-46d5-b3bd-21c9c360749a",
   "metadata": {},
   "source": [
    "**Splitting Data**"
   ]
  },
  {
   "cell_type": "code",
   "execution_count": 246,
   "id": "bf16d9b7-e067-4cb4-9d1e-90efa3236136",
   "metadata": {},
   "outputs": [
    {
     "data": {
      "text/html": [
       "226"
      ],
      "text/latex": [
       "226"
      ],
      "text/markdown": [
       "226"
      ],
      "text/plain": [
       "[1] 226"
      ]
     },
     "metadata": {},
     "output_type": "display_data"
    },
    {
     "data": {
      "text/html": [
       "76"
      ],
      "text/latex": [
       "76"
      ],
      "text/markdown": [
       "76"
      ],
      "text/plain": [
       "[1] 76"
      ]
     },
     "metadata": {},
     "output_type": "display_data"
    },
    {
     "data": {
      "text/html": [
       "0.748344370860927"
      ],
      "text/latex": [
       "0.748344370860927"
      ],
      "text/markdown": [
       "0.748344370860927"
      ],
      "text/plain": [
       "[1] 0.7483444"
      ]
     },
     "metadata": {},
     "output_type": "display_data"
    }
   ],
   "source": [
    "set.seed(42)\n",
    "cleveland_split <- initial_split(cleveland_new, prop = 0.75, strata = cp)\n",
    "cleveland_train <- training(cleveland_split)\n",
    "cleveland_test <- testing(cleveland_split)\n",
    "\n",
    "nrow(cleveland_train)\n",
    "nrow(cleveland_test)\n",
    "cleveland_ratio <- nrow(cleveland_train)/(nrow(cleveland_train) + nrow(cleveland_test))\n",
    "cleveland_ratio"
   ]
  },
  {
   "cell_type": "markdown",
   "id": "bfae4a22-31b7-425f-b997-0f33789878f3",
   "metadata": {},
   "source": [
    "**Summarizing Data Based on cp**"
   ]
  },
  {
   "cell_type": "code",
   "execution_count": 248,
   "id": "37643df8-bb9f-486d-a0a0-d8a16ec41eee",
   "metadata": {},
   "outputs": [
    {
     "data": {
      "text/html": [
       "<table class=\"dataframe\">\n",
       "<caption>A tibble: 2 × 2</caption>\n",
       "<thead>\n",
       "\t<tr><th scope=col>chestpain</th><th scope=col>count</th></tr>\n",
       "\t<tr><th scope=col>&lt;fct&gt;</th><th scope=col>&lt;int&gt;</th></tr>\n",
       "</thead>\n",
       "<tbody>\n",
       "\t<tr><td>FALSE</td><td>109</td></tr>\n",
       "\t<tr><td>TRUE </td><td>117</td></tr>\n",
       "</tbody>\n",
       "</table>\n"
      ],
      "text/latex": [
       "A tibble: 2 × 2\n",
       "\\begin{tabular}{ll}\n",
       " chestpain & count\\\\\n",
       " <fct> & <int>\\\\\n",
       "\\hline\n",
       "\t FALSE & 109\\\\\n",
       "\t TRUE  & 117\\\\\n",
       "\\end{tabular}\n"
      ],
      "text/markdown": [
       "\n",
       "A tibble: 2 × 2\n",
       "\n",
       "| chestpain &lt;fct&gt; | count &lt;int&gt; |\n",
       "|---|---|\n",
       "| FALSE | 109 |\n",
       "| TRUE  | 117 |\n",
       "\n"
      ],
      "text/plain": [
       "  chestpain count\n",
       "1 FALSE     109  \n",
       "2 TRUE      117  "
      ]
     },
     "metadata": {},
     "output_type": "display_data"
    }
   ],
   "source": [
    "cp_count <- cleveland_train |>\n",
    "    group_by(chestpain) |> \n",
    "    summarize(count = n()) \n",
    "cp_count"
   ]
  },
  {
   "cell_type": "markdown",
   "id": "ff217927-a461-4709-97d6-cbde63d62a3b",
   "metadata": {},
   "source": [
    "**Visualizing Data**"
   ]
  },
  {
   "cell_type": "code",
   "execution_count": 249,
   "id": "59531438-dd98-4f9d-aff1-40f6f2bcf7bf",
   "metadata": {},
   "outputs": [
    {
     "data": {
      "image/png": "[encoded data removed]",
      "text/plain": [
       "plot without title"
      ]
     },
     "metadata": {
      "image/png": {
       "height": 420,
       "width": 420
      }
     },
     "output_type": "display_data"
    }
   ],
   "source": [
    "cp_plot <- cp_count |>\n",
    "    ggplot(aes(x = chestpain, y = count)) +\n",
    "                  geom_bar(stat = \"identity\") + \n",
    "                  labs(x = \"Presence of Chest Pain\", y = \"Number of Patients\")\n",
    "\n",
    "cp_plot"
   ]
  },
  {
   "cell_type": "code",
   "execution_count": 251,
   "id": "055d3678-a030-4e21-b3d3-99cb6629f459",
   "metadata": {},
   "outputs": [
    {
     "data": {
      "image/png": "[encoded data removed]",
      "text/plain": [
       "plot without title"
      ]
     },
     "metadata": {
      "image/png": {
       "height": 420,
       "width": 420
      }
     },
     "output_type": "display_data"
    }
   ],
   "source": [
    "cp_plot2 <- cleveland_train |>\n",
    "    ggplot(aes(x = thalach, y = trestbps, color = chestpain)) +\n",
    "    geom_point() +\n",
    "    xlab(\"predictor\") +\n",
    "    ylab(\"predictor\") +\n",
    "    ggtitle(\"yeah\") +\n",
    "    theme(text = element_text(size = 12))\n",
    "cp_plot2"
   ]
  },
  {
   "cell_type": "markdown",
   "id": "f86ccfdf-abd6-4299-b32b-187c595f0335",
   "metadata": {},
   "source": [
    "**Training the Model**"
   ]
  },
  {
   "cell_type": "code",
   "execution_count": 259,
   "id": "b3e3f763-6429-4a18-bc9a-0361b6fd2ceb",
   "metadata": {},
   "outputs": [
    {
     "data": {
      "image/png": "[encoded data removed]",
      "text/plain": [
       "plot without title"
      ]
     },
     "metadata": {
      "image/png": {
       "height": 420,
       "width": 420
      }
     },
     "output_type": "display_data"
    }
   ],
   "source": [
    "set.seed(42)\n",
    "heart_recipe <- recipe(chestpain ~ thalach + trestbps, data = cleveland_train) |>\n",
    "step_scale(all_predictors()) |>\n",
    "step_center(all_predictors())\n",
    "\n",
    "knn_spec <- nearest_neighbor(weight_func = \"rectangular\", neighbors = tune()) |>\n",
    "       set_engine(\"kknn\") |>\n",
    "       set_mode(\"classification\")\n",
    "\n",
    "heart_vfold <- vfold_cv(cleveland_train, v = 5, strata = cp)\n",
    "\n",
    "heart_fit <- workflow() |>\n",
    "       add_recipe(heart_recipe) |>\n",
    "       add_model(knn_spec) |>\n",
    "       tune_grid(resamples = heart_vfold, grid = 10) |>\n",
    "       collect_metrics()\n",
    "\n",
    "accuracies <- heart_fit |> \n",
    "       filter(.metric == \"accuracy\")\n",
    "\n",
    "accuracy_versus_k <- ggplot(accuracies, aes(x = neighbors, y = mean))+\n",
    "       geom_point() +\n",
    "       geom_line() +\n",
    "       labs(x = \"Neighbors\", y = \"Accuracy Estimate\") +\n",
    "       scale_x_continuous(breaks = seq(0, 14, by = 1)) +  \n",
    "       scale_y_continuous(limits = c(0.4, 1.0)) \n",
    "\n",
    "accuracy_versus_k"
   ]
  },
  {
   "cell_type": "code",
   "execution_count": 261,
   "id": "e40ae309-76e1-411c-b358-9b7f51072737",
   "metadata": {},
   "outputs": [
    {
     "data": {
      "text/html": [
       "<table class=\"dataframe\">\n",
       "<caption>A tibble: 2 × 3</caption>\n",
       "<thead>\n",
       "\t<tr><th scope=col>.metric</th><th scope=col>.estimator</th><th scope=col>.estimate</th></tr>\n",
       "\t<tr><th scope=col>&lt;chr&gt;</th><th scope=col>&lt;chr&gt;</th><th scope=col>&lt;dbl&gt;</th></tr>\n",
       "</thead>\n",
       "<tbody>\n",
       "\t<tr><td>accuracy</td><td>binary</td><td>0.6052632</td></tr>\n",
       "\t<tr><td>kap     </td><td>binary</td><td>0.2186429</td></tr>\n",
       "</tbody>\n",
       "</table>\n"
      ],
      "text/latex": [
       "A tibble: 2 × 3\n",
       "\\begin{tabular}{lll}\n",
       " .metric & .estimator & .estimate\\\\\n",
       " <chr> & <chr> & <dbl>\\\\\n",
       "\\hline\n",
       "\t accuracy & binary & 0.6052632\\\\\n",
       "\t kap      & binary & 0.2186429\\\\\n",
       "\\end{tabular}\n"
      ],
      "text/markdown": [
       "\n",
       "A tibble: 2 × 3\n",
       "\n",
       "| .metric &lt;chr&gt; | .estimator &lt;chr&gt; | .estimate &lt;dbl&gt; |\n",
       "|---|---|---|\n",
       "| accuracy | binary | 0.6052632 |\n",
       "| kap      | binary | 0.2186429 |\n",
       "\n"
      ],
      "text/plain": [
       "  .metric  .estimator .estimate\n",
       "1 accuracy binary     0.6052632\n",
       "2 kap      binary     0.2186429"
      ]
     },
     "metadata": {},
     "output_type": "display_data"
    },
    {
     "data": {
      "text/plain": [
       "          Truth\n",
       "Prediction FALSE TRUE\n",
       "     FALSE    24   19\n",
       "     TRUE     11   22"
      ]
     },
     "metadata": {},
     "output_type": "display_data"
    }
   ],
   "source": [
    "best_spec <- nearest_neighbor(weight_func = \"rectangular\", neighbors = 8) |>\n",
    "       set_engine(\"kknn\") |>\n",
    "       set_mode(\"classification\")\n",
    "\n",
    "best_fit <- workflow() |>\n",
    "       add_recipe(heart_recipe) |>\n",
    "       add_model(best_spec) |>\n",
    "       fit(data = cleveland_train)\n",
    "\n",
    "predictions <- predict(best_fit, cleveland_test) |>\n",
    "    bind_cols(cleveland_test)\n",
    "\n",
    "metrics <- predictions |>\n",
    "    metrics(truth = chestpain, estimate = .pred_class)\n",
    "\n",
    "conf_mat <- predictions |> \n",
    "    conf_mat(truth = chestpain, estimate = .pred_class)\n",
    "\n",
    "metrics\n",
    "conf_mat"
   ]
  },
  {
   "cell_type": "markdown",
   "id": "38b7ddf1-6c77-4645-aced-b096821d7464",
   "metadata": {},
   "source": [
    "## Methods"
   ]
  },
  {
   "cell_type": "markdown",
   "id": "fc0d5cf9-6681-4d26-a071-5f4b676a17a1",
   "metadata": {},
   "source": [
    "The variables used will be #3 age, #4 sex, #5 painloc (chest pain location), #9 cp (chest pain type), #10 trestbps (resting blood pressure). Using K-NN classification we will design a model that predicts the type of chest pain for a patient based on resting blood pressure, sex, age, and pain type.\n",
    "We will generate a graph that plots the accuracy of our classification model and then test our model using data from other countries."
   ]
  },
  {
   "cell_type": "markdown",
   "id": "8a6e3243-3667-4c24-9127-babb98ec889a",
   "metadata": {},
   "source": [
    "## Expected Outcomes and Significance"
   ]
  },
  {
   "cell_type": "markdown",
   "id": "3a343158-6f9b-4840-88f6-2bfbe2fd1e01",
   "metadata": {},
   "source": [
    "We expect to find significant correlation levels between chest pain type and the resting blood pressure, age, and sex of the patient. Specifically, we expect to find that typical angina is more common in males and that atypical is more common in females\n",
    "\n",
    "These findings can be used to discover potential treatments for heart disease and help doctors identify possible early signs of heart disease.\n",
    "\n",
    "Some future questions could be:\n",
    "- How do variables such as age and sex impact heart disease?\n",
    "- What difference in men causes them to have typical angina more than women?\n",
    "- What difference in women causes them to have atypical angina more than men?"
   ]
  }
 ],
 "metadata": {
  "kernelspec": {
   "display_name": "R",
   "language": "R",
   "name": "ir"
  },
  "language_info": {
   "codemirror_mode": "r",
   "file_extension": ".r",
   "mimetype": "text/x-r-source",
   "name": "R",
   "pygments_lexer": "r",
   "version": "4.1.3"
  }
 },
 "nbformat": 4,
 "nbformat_minor": 5
}
