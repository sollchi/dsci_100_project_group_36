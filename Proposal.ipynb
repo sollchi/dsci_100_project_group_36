{
 "cells": [
  {
   "cell_type": "markdown",
   "id": "27d90d41-0450-4ee6-9295-c2c05c816c0f",
   "metadata": {},
   "source": [
    "hi"
   ]
  },
  {
   "cell_type": "markdown",
   "id": "53319db0-0798-4044-911e-ea86bfbfb24f",
   "metadata": {},
   "source": [
    "hey"
   ]
  },
  {
   "cell_type": "markdown",
   "id": "32c024ea-ca11-4917-8c0b-e31c79d09560",
   "metadata": {},
   "source": []
  }
 ],
 "metadata": {
  "kernelspec": {
   "display_name": "R",
   "language": "R",
   "name": "ir"
  },
  "language_info": {
   "codemirror_mode": "r",
   "file_extension": ".r",
   "mimetype": "text/x-r-source",
   "name": "R",
   "pygments_lexer": "r",
   "version": "4.1.3"
  }
 },
 "nbformat": 4,
 "nbformat_minor": 5
}
